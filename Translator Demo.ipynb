{
 "cells": [
  {
   "cell_type": "markdown",
   "metadata": {},
   "source": [
    "### Create a Translator Text Service\n",
    "To see this in action, you need to provision a Text Analytics service in your Azure subscription. Follow these steps to do that:\n",
    "\n",
    "1. Open another browser tab and navigate to https://portal.azure.com.\n",
    "2. Sign in using your Microsoft account.\n",
    "3. Click **+ New**, and in the **AI + Cognitive Services** category, click **See all**.\n",
    "4. In the list of cognitive services, click **Translator Text API**.\n",
    "5. In the **Translator Text API** blade, click **Create**.\n",
    "6. In the **Create** blade, enter the following details, and then click **Create**\n",
    "  * **Name**: A unique name for your service.\n",
    "  * **Subscription**: Your Azure subscription.\n",
    "  * **Pricing tier**: Choose the F0 pricing tier.\n",
    "  * **Resource Group**: Choose an existing resource group or create a new one.\n",
    "  * Read the notice about the use of your data, and select the checkbox.\n",
    "7. Wait for the service to be created.\n",
    "8. When deployment is complete, click **All Resources** and then click your Translator Text service to open its blade.\n",
    "9. In the blade for your service, click **Keys** and then copy **Key 1** to the clipboard and paste it into the **translatorKey** variable assignment value in the cell below. \n",
    "11. Run the cell below to assign the variable."
   ]
  },
  {
   "cell_type": "code",
   "execution_count": 1,
   "metadata": {},
   "outputs": [],
   "source": [
    "translatorKey = 'your_key_here'"
   ]
  },
  {
   "cell_type": "markdown",
   "metadata": {},
   "source": [
    "### TranslatorService class code\n",
    "\n",
    "Should be initialized passing in the subscription key from Microsoft Translator API\n",
    "Then, it can be used to translate any string of text in any of the supported languages through the **translate** function"
   ]
  },
  {
   "cell_type": "code",
   "execution_count": 2,
   "metadata": {},
   "outputs": [],
   "source": [
    "import http.client, urllib.request, urllib.parse, urllib.error, base64, json\n",
    "from xml.etree import ElementTree\n",
    "\n",
    "class TranslatorService:\n",
    "\n",
    "    key = ''\n",
    "\n",
    "    def __init__(self, key):\n",
    "        self.key = key\n",
    "\n",
    "    def translate(self, textToTranslate, to_lang, use_nn=True):\n",
    "\n",
    "        if use_nn:\n",
    "            category = 'generalnn'\n",
    "        else:\n",
    "            category = 'general'\n",
    "\n",
    "        # Define the request headers.\n",
    "        headers = {\n",
    "            'Ocp-Apim-Subscription-Key': self.key,\n",
    "        }\n",
    "\n",
    "        params = urllib.parse.urlencode({\n",
    "        # Request parameters\n",
    "        'text': textToTranslate,\n",
    "        'to': to_lang,\n",
    "        'category' : category\n",
    "        })\n",
    "\n",
    "        try:\n",
    "            #conn = http.client.HTTPSConnection('localhost',port=8888 )\n",
    "            #conn.set_tunnel('api.microsofttranslator.com')\n",
    "            conn = http.client.HTTPSConnection('api.microsofttranslator.com')\n",
    "            conn.request(\"GET\", \"/V2/Http.svc/Translate?%s\" % params, None, headers)\n",
    "            response = conn.getresponse()\n",
    "            data = response.read()\n",
    "            # parse xml return values\n",
    "            translation = ElementTree.fromstring(data.decode('utf-8'))\n",
    "            conn.close()\n",
    "            return translation.text\n",
    "\n",
    "        except Exception as e:\n",
    "            print('Error: %s' % str(e))\n",
    "            \n",
    "    def translateArray(self, list_strings, to_lang, use_nn=True):\n",
    "        \n",
    "        if use_nn:\n",
    "            category = 'generalnn'\n",
    "        else:\n",
    "            category = 'general'\n",
    "\n",
    "        # Define the request headers.\n",
    "        headers = {\n",
    "            'Ocp-Apim-Subscription-Key': self.key,\n",
    "            'Content-Type' : 'text/xml; charset=utf-8'\n",
    "        }\n",
    "\n",
    "        strings_xml = ''\n",
    "        for i in list_strings:\n",
    "            strings_xml = strings_xml + '<string xmlns=\\\"http://schemas.microsoft.com/2003/10/Serialization/Arrays\\\">{}</string>'.format(i)\n",
    "        \n",
    "        body = \"<TranslateArrayRequest>\"  + \\\n",
    "                    \"<AppId />\" + \\\n",
    "                    \"<Options>\" + \\\n",
    "                        \"<Category xmlns=\\\"http://schemas.datacontract.org/2004/07/Microsoft.MT.Web.Service.V2\\\">{}</Category>\".format(category) + \\\n",
    "                        \"<ContentType xmlns=\\\"http://schemas.datacontract.org/2004/07/Microsoft.MT.Web.Service.V2\\\">text/plain</ContentType>\" + \\\n",
    "                        \"<ReservedFlags xmlns=\\\"http://schemas.datacontract.org/2004/07/Microsoft.MT.Web.Service.V2\\\" />\" + \\\n",
    "                        \"<State xmlns=\\\"http://schemas.datacontract.org/2004/07/Microsoft.MT.Web.Service.V2\\\" />\" + \\\n",
    "                        \"<Uri xmlns=\\\"http://schemas.datacontract.org/2004/07/Microsoft.MT.Web.Service.V2\\\" />\" + \\\n",
    "                        \"<User xmlns=\\\"http://schemas.datacontract.org/2004/07/Microsoft.MT.Web.Service.V2\\\" />\" + \\\n",
    "                    \"</Options>\" + \\\n",
    "                    \"<Texts>\" + \\\n",
    "                    strings_xml + \\\n",
    "                    \"</Texts>\" + \\\n",
    "                    \"<To>{}</To>\".format(to_lang) + \\\n",
    "                    \"</TranslateArrayRequest>\"\n",
    "              \n",
    "        try:\n",
    "            #conn = http.client.HTTPSConnection('localhost',port=8888 )\n",
    "            #conn.set_tunnel('api.microsofttranslator.com')\n",
    "            conn = http.client.HTTPSConnection('api.microsofttranslator.com')\n",
    "            conn.request(\"POST\", \"/V2/Http.svc/TranslateArray\", body.encode('utf8'), headers)\n",
    "            response = conn.getresponse()\n",
    "            data = response.read()\n",
    "            # parse xml return values\n",
    "            translations = ElementTree.fromstring(data.decode('utf-8'))\n",
    "            conn.close()\n",
    "            translation_list = []\n",
    "            for child in translations.iter('{http://schemas.datacontract.org/2004/07/Microsoft.MT.Web.Service.V2}TranslatedText'):\n",
    "                translation_list.append(child.text)\n",
    "            return translation_list    \n",
    "\n",
    "        except Exception as e:\n",
    "            print('Error: %s' % str(e))\n",
    "            \n",
    "    def detect(self, textToDetect):\n",
    "        # Define the request headers.\n",
    "        headers = {\n",
    "            'Ocp-Apim-Subscription-Key': self.key,\n",
    "        }\n",
    "\n",
    "        params = urllib.parse.urlencode({\n",
    "        # Request parameters\n",
    "        'text': textToDetect,\n",
    "        })\n",
    "\n",
    "        try:\n",
    "            conn = http.client.HTTPSConnection('api.microsofttranslator.com')\n",
    "            conn.request(\"GET\", \"/V2/Http.svc//Detect?%s\" % params, \"{body}\", headers)\n",
    "            response = conn.getresponse()\n",
    "            data = response.read()\n",
    "            # parse xml return values\n",
    "            detection = ElementTree.fromstring(data.decode('utf-8'))\n",
    "            conn.close()\n",
    "            return detection.text\n",
    "\n",
    "        except Exception as e:\n",
    "            print('Error: %s' % str(e))\n",
    "\n",
    "    def getLanguagesForTranslate(self):\n",
    "        # Define the request headers.\n",
    "        headers = {\n",
    "            'Ocp-Apim-Subscription-Key': self.key,\n",
    "        }\n",
    "\n",
    "        try:\n",
    "            conn = http.client.HTTPSConnection('api.microsofttranslator.com')\n",
    "            conn.request(\"GET\", \"/V2/Http.svc//GetLanguagesForTranslate\", \"{body}\", headers)\n",
    "            response = conn.getresponse()\n",
    "            data = response.read()\n",
    "            response = ElementTree.fromstring(data.decode('utf-8'))\n",
    "            conn.close()\n",
    "           \n",
    "            language_list = []\n",
    "            for child in response.iter('{http://schemas.microsoft.com/2003/10/Serialization/Arrays}string'):\n",
    "                language_list.append(child.text)\n",
    "            return language_list    \n",
    "\n",
    "        except Exception as e:\n",
    "            print('Error: %s' % str(e))    \n",
    "            \n",
    "    def getLanguageNames(self, langCodes, locale):\n",
    "        \n",
    "        # Define the request headers.\n",
    "        headers = {\n",
    "            'Ocp-Apim-Subscription-Key': self.key,\n",
    "            'Content-Type' : 'text/xml; charset=utf-8'\n",
    "        }\n",
    "\n",
    "        params = urllib.parse.urlencode({\n",
    "        # Request parameters\n",
    "        'locale': locale,\n",
    "        })\n",
    "        \n",
    "        strings_xml = ''\n",
    "        for i in langCodes:\n",
    "            strings_xml = strings_xml + '<string>{}</string>'.format(i)\n",
    "        \n",
    "        body = \"<ArrayOfstring xmlns:i=\\\"http://www.w3.org/2001/XMLSchema-instance\\\" xmlns=\\\"http://schemas.microsoft.com/2003/10/Serialization/Arrays\\\">\"  + \\\n",
    "                    strings_xml + \\\n",
    "                \"</ArrayOfstring>\"\n",
    "    \n",
    "    \n",
    "        try:\n",
    "            conn = http.client.HTTPSConnection('api.microsofttranslator.com')\n",
    "            conn.request(\"POST\", \"/V2/Http.svc/GetLanguageNames?%s\" % params, body.encode('utf8'), headers)\n",
    "            response = conn.getresponse()\n",
    "            data = response.read()\n",
    "            # parse xml return values\n",
    "            langs = ElementTree.fromstring(data.decode('utf-8'))\n",
    "            conn.close()\n",
    "            language_list = []\n",
    "            for child in langs.iter('{http://schemas.microsoft.com/2003/10/Serialization/Arrays}string'):\n",
    "                language_list.append(child.text)\n",
    "            return language_list    \n",
    "\n",
    "        except Exception as e:\n",
    "            print('Error: %s' % str(e))   \n",
    "            \n",
    "# create the object\n",
    "translator = TranslatorService(translatorKey)\n"
   ]
  },
  {
   "cell_type": "markdown",
   "metadata": {},
   "source": [
    "Below you can see examples of translating from 3 languages into english\n",
    "\n",
    "Notice the simple usage: **translator.translate(someText, language)** "
   ]
  },
  {
   "cell_type": "code",
   "execution_count": 3,
   "metadata": {},
   "outputs": [
    {
     "name": "stdout",
     "output_type": "stream",
     "text": [
      "\n",
      "Translating from portuguese: \"Esta frase deverá ser correctamente traduzida para inglês\"\n",
      "Result: This phrase should be translated correctly into English\n",
      "\n",
      "Translating from spanish: \"Este servicio de traducción es genial!\"\n",
      "Result: This translation service is great!\n",
      "\n",
      "Translating from dutch: \"Het kan zelfs vertalen Nederlandse\"\n",
      "Result: It can even translate Dutch\n"
     ]
    }
   ],
   "source": [
    "# use the translate function\n",
    "textToTranslate = 'Esta frase deverá ser correctamente traduzida para inglês'\n",
    "print('\\nTranslating from portuguese: \\\"%s\\\"' % textToTranslate)\n",
    "result = translator.translate(textToTranslate, 'en')\n",
    "print ('Result: %s' % result)\n",
    "\n",
    "textToTranslate = 'Este servicio de traducción es genial!'\n",
    "print('\\nTranslating from spanish: \\\"%s\\\"' % textToTranslate)\n",
    "result = translator.translate(textToTranslate, 'en')\n",
    "print ('Result: %s' % result)\n",
    "\n",
    "textToTranslate = 'Het kan zelfs vertalen Nederlandse'\n",
    "print('\\nTranslating from dutch: \\\"%s\\\"' % textToTranslate)\n",
    "result = translator.translate(textToTranslate, 'en')\n",
    "print ('Result: %s' % result)"
   ]
  },
  {
   "cell_type": "markdown",
   "metadata": {},
   "source": [
    "The second parameter of the function we created is the intended language to translate to. The Microsoft Translator API also allows to pass in a parameter specifying the original language but the service is usually able to detect it automatically so this implementation does not include it."
   ]
  },
  {
   "cell_type": "code",
   "execution_count": 4,
   "metadata": {},
   "outputs": [
    {
     "name": "stdout",
     "output_type": "stream",
     "text": [
      "\n",
      "Translating from english: \"It can translate to other languages too\"\n",
      "Result: También puede traducirse a otros idiomas\n"
     ]
    }
   ],
   "source": [
    "textToTranslate = 'It can translate to other languages too'\n",
    "print('\\nTranslating from english: \\\"%s\\\"' % textToTranslate)\n",
    "result = translator.translate(textToTranslate, 'es')\n",
    "print ('Result: %s' % result)"
   ]
  },
  {
   "cell_type": "markdown",
   "metadata": {},
   "source": [
    "The service is also able to detect in which language a particular piece of text is written. The wrapper implements the **detect** function which can be used for this:\n",
    "\n",
    "usage: **translator.detect(someText)**"
   ]
  },
  {
   "cell_type": "code",
   "execution_count": 5,
   "metadata": {},
   "outputs": [
    {
     "name": "stdout",
     "output_type": "stream",
     "text": [
      "Detected language: pt\n"
     ]
    }
   ],
   "source": [
    "textToDetect = \"Será que a detecção funciona?\"\n",
    "result = translator.detect(textToDetect)\n",
    "print('Detected language: {0}'.format(result))"
   ]
  },
  {
   "cell_type": "markdown",
   "metadata": {},
   "source": [
    "There are actually two models we can use for translation.\n",
    "\n",
    "The legacy model is called **Statistical Machine Translation (SMT)** and can be further customized using the Translator Hub (https://hub.microsofttranslator.com/SignIn?returnURL=%2FHome%2FIndex).\n",
    "\n",
    "The new model is called **Neural Machine Translation (NMT)** and used Deep Neural Networks for the translation. We have to specify it explicitly on the API calls, but the wrapper does that automatically. In this case, if you want to use SMT you need to specify **use_nn=False** on the translate method call.\n",
    "\n",
    "Here's an example:"
   ]
  },
  {
   "cell_type": "code",
   "execution_count": 6,
   "metadata": {},
   "outputs": [
    {
     "name": "stdout",
     "output_type": "stream",
     "text": [
      "Translating from portuguese: \"Esta é uma frase particularmente complexa escrita em português e deverá produzir resultados diferentes conforme a tecnologia seleccionada para a tradução\"\n",
      "\n",
      "Result with NMT: \n",
      "This is a particularly complex phrase written in Portuguese and should produce different results according to the technology selected for the translation\n",
      "Result with SMT: \n",
      "This is a particularly complex sentence written in Portuguese and must produce different results depending on the technology selected for translation\n",
      "\n"
     ]
    }
   ],
   "source": [
    "#Using NMT vs SMT (nerual machine translation vs Statistical machine translation)\n",
    "textToTranslate = 'Esta é uma frase particularmente complexa escrita em português e deverá produzir resultados diferentes conforme a tecnologia seleccionada para a tradução'\n",
    "print('Translating from portuguese: \\\"%s\\\"\\n' % textToTranslate)\n",
    "\n",
    "result = translator.translate(textToTranslate, 'en')\n",
    "print ('Result with NMT: \\n%s' % result)\n",
    "\n",
    "result2 = translator.translate(textToTranslate, 'en', use_nn=False)\n",
    "print ('Result with SMT: \\n%s\\n' % result2)"
   ]
  },
  {
   "cell_type": "markdown",
   "metadata": {},
   "source": [
    "In the results above we can see NMT was slightly better: **'should produce'** is more accurate than '**must produce** in this context as the original phrase in portuguese implies that it is likely we'll get different results as opposed to an absolute certainty."
   ]
  },
  {
   "cell_type": "markdown",
   "metadata": {},
   "source": [
    "The TranslatorService class also implements the translateArray which allows to send a list of strings to translate in a single call. Usage is similar to the translate method, except it now requires a list of strings as the first parameter:\n",
    "\n",
    "**translator.translateArray(listOfString, language)**"
   ]
  },
  {
   "cell_type": "code",
   "execution_count": 12,
   "metadata": {},
   "outputs": [
    {
     "name": "stdout",
     "output_type": "stream",
     "text": [
      "Using NMT\n",
      "Let's try to translate several sentences at once\n",
      "The order is kept in the answer but the language of all sentences has to be the same\n",
      "This translation is making use of neural networks to improve the results\n",
      "\n",
      "Using SMT\n",
      "Let's try to translate several sentences at once\n",
      "The order is maintained in the response but the language of every sentence must be the same\n",
      "This translation is the use of neural networks to improve results\n"
     ]
    }
   ],
   "source": [
    "li = []\n",
    "li.append('Vamos tentar traduzir várias frases de uma vez só')\n",
    "li.append('A ordem é mantida na resposta mas a linguagem de todas as frases tem de ser a mesma')\n",
    "li.append('Esta tradução está a fazer uso de redes neuronais para melhorar os resultados')\n",
    "\n",
    "print('Using NMT')\n",
    "result = translator.translateArray(li,'en')\n",
    "for s in result:\n",
    "    print(s)\n",
    "\n",
    "print('\\nUsing SMT')\n",
    "result = translator.translateArray(li,'en', use_nn=False)\n",
    "for s in result:\n",
    "    print(s)"
   ]
  },
  {
   "cell_type": "markdown",
   "metadata": {},
   "source": [
    "Finally, the wrapper also includes methods to get all the supported language codes (which you can use on the previous methods) and also the friendly name associated to those codes for displaying in a UI. Usage: \n",
    "\n",
    "**translator.getLanguagesForTranslate()**\n",
    "**translator.getLanguageNames(listOfLangCodes, locale)**"
   ]
  },
  {
   "cell_type": "code",
   "execution_count": 8,
   "metadata": {},
   "outputs": [
    {
     "name": "stdout",
     "output_type": "stream",
     "text": [
      "Language codes:\n",
      "['af', 'ar', 'bn', 'bs-Latn', 'bg', 'ca', 'zh-CHS', 'zh-CHT', 'yue', 'hr', 'cs', 'da', 'nl', 'en', 'et', 'fj', 'fil', 'fi', 'fr', 'de', 'el', 'ht', 'he', 'hi', 'mww', 'hu', 'id', 'it', 'ja', 'sw', 'tlh', 'tlh-Qaak', 'ko', 'lv', 'lt', 'mg', 'ms', 'mt', 'yua', 'no', 'otq', 'fa', 'pl', 'pt', 'ro', 'ru', 'sm', 'sr-Cyrl', 'sr-Latn', 'sk', 'sl', 'es', 'sv', 'ty', 'ta', 'th', 'to', 'tr', 'uk', 'ur', 'vi', 'cy']\n",
      "\n",
      "Language names:\n",
      "['Afrikaans', 'Arabic', 'Bangla', 'Bosnian (Latin)', 'Bulgarian', 'Catalan', 'Chinese Simplified', 'Chinese Traditional', 'Cantonese (Traditional)', 'Croatian', 'Czech', 'Danish', 'Dutch', 'English', 'Estonian', 'Fijian', 'Filipino', 'Finnish', 'French', 'German', 'Greek', 'Haitian Creole', 'Hebrew', 'Hindi', 'Hmong Daw', 'Hungarian', 'Indonesian', 'Italian', 'Japanese', 'Kiswahili', 'Klingon', 'Klingon (pIqaD)', 'Korean', 'Latvian', 'Lithuanian', 'Malagasy', 'Malay', 'Maltese', 'Yucatec Maya', 'Norwegian Bokmål', 'Querétaro Otomi', 'Persian', 'Polish', 'Portuguese', 'Romanian', 'Russian', 'Samoan', 'Serbian (Cyrillic)', 'Serbian (Latin)', 'Slovak', 'Slovenian', 'Spanish', 'Swedish', 'Tahitian', 'Tamil', 'Thai', 'Tongan', 'Turkish', 'Ukrainian', 'Urdu', 'Vietnamese', 'Welsh']\n"
     ]
    }
   ],
   "source": [
    "langCodes = translator.getLanguagesForTranslate()\n",
    "print(\"Language codes:\")\n",
    "print(langCodes)\n",
    "\n",
    "languageNames = translator.getLanguageNames(langCodes,'en')\n",
    "print(\"\\nLanguage names:\")\n",
    "print(languageNames)\n"
   ]
  },
  {
   "cell_type": "markdown",
   "metadata": {},
   "source": [
    "### Just for fun\n",
    "\n",
    "A small interactive application when you run this cell, so you can freely test the service"
   ]
  },
  {
   "cell_type": "code",
   "execution_count": 14,
   "metadata": {},
   "outputs": [
    {
     "name": "stdout",
     "output_type": "stream",
     "text": [
      "Input a string in any supported language:Let's try a simple sentence\n",
      "\n",
      "Language List\n",
      "\n",
      "1:Maltese\n",
      "2:Serbian (Cyrillic)\n",
      "3:Tongan\n",
      "4:Kiswahili\n",
      "5:Malay\n",
      "\n",
      "Choose the language from the list that you want to translate to: 5\n",
      "\n",
      "Translation: Mari kita cuba ayat mudah\n"
     ]
    }
   ],
   "source": [
    "import random\n",
    "import numpy as np\n",
    "\n",
    "textToTranslate = input(\"Input a string in any supported language:\")\n",
    "\n",
    "langCodes = translator.getLanguagesForTranslate()\n",
    "langFriendlyNames = translator.getLanguageNames(langCodes,'en')\n",
    "\n",
    "#choose 5 random languages\n",
    "random_values = (list(np.arange(len(langCodes))))\n",
    "sample = random.sample(random_values, 5)\n",
    "\n",
    "print (\"\\nLanguage List\\n\")\n",
    "i = 0\n",
    "for l in sample:\n",
    "    i = i + 1\n",
    "    print('%i:%s' % (i, langFriendlyNames[l]))\n",
    "\n",
    "toLangCode = \" \"\n",
    "# Get the destination language\n",
    "while (toLangCode == \" \"):\n",
    "    destLang = int(input(\"\\nChoose the language from the list that you want to translate to: \"))\n",
    "    if (destLang >= 1) or (destLang <= 5):\n",
    "        toLangCode = langCodes[sample[destLang-1]]\n",
    "    else:\n",
    "        print (\"\\nYou need to pick a language from the List\\n\")\n",
    " \n",
    "result = translator.translate(textToTranslate, toLangCode)\n",
    "print('\\nTranslation: %s' % result)\n"
   ]
  },
  {
   "cell_type": "code",
   "execution_count": null,
   "metadata": {},
   "outputs": [],
   "source": []
  }
 ],
 "metadata": {
  "kernelspec": {
   "display_name": "Python 3",
   "language": "python",
   "name": "python3"
  },
  "language_info": {
   "codemirror_mode": {
    "name": "ipython",
    "version": 3
   },
   "file_extension": ".py",
   "mimetype": "text/x-python",
   "name": "python",
   "nbconvert_exporter": "python",
   "pygments_lexer": "ipython3",
   "version": "3.6.4"
  }
 },
 "nbformat": 4,
 "nbformat_minor": 2
}
