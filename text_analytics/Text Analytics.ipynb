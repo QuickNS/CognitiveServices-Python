{
 "cells": [
  {
   "cell_type": "code",
   "execution_count": 1,
   "metadata": {},
   "outputs": [],
   "source": [
    "%load_ext autoreload\n",
    "%autoreload 2"
   ]
  },
  {
   "cell_type": "code",
   "execution_count": 2,
   "metadata": {},
   "outputs": [],
   "source": [
    "# required imports\n",
    "import text_analytics\n",
    "import requests\n",
    "import json"
   ]
  },
  {
   "cell_type": "code",
   "execution_count": 3,
   "metadata": {},
   "outputs": [],
   "source": [
    "from text_analytics import TextService"
   ]
  },
  {
   "cell_type": "code",
   "execution_count": 25,
   "metadata": {},
   "outputs": [],
   "source": [
    "service = TextService(region=\"westeurope\",key='4491e6fce8b342919a1a5303a8eb087d')"
   ]
  },
  {
   "cell_type": "markdown",
   "metadata": {},
   "source": [
    "## Detect Language"
   ]
  },
  {
   "cell_type": "code",
   "execution_count": 7,
   "metadata": {},
   "outputs": [],
   "source": [
    "text_list = ['Hello world',\n",
    "             'Bonjour tout le monde',\n",
    "             'La carretera estaba atascada. Había mucho tráfico el día de ayer.',\n",
    "             ':) :( :D']"
   ]
  },
  {
   "cell_type": "code",
   "execution_count": 43,
   "metadata": {},
   "outputs": [
    {
     "name": "stdout",
     "output_type": "stream",
     "text": [
      "{'documents': [{'id': '0', 'text': 'Hello world'},\n",
      "               {'id': '1', 'text': 'Bonjour tout le monde'},\n",
      "               {'id': '2',\n",
      "                'text': 'La carretera estaba atascada. Había mucho tráfico el '\n",
      "                        'día de ayer.'},\n",
      "               {'id': '3', 'text': ':) :( :D'}]}\n"
     ]
    }
   ],
   "source": [
    "documents = service.BuildDocumentList(text_list)\n",
    "pprint(documents)"
   ]
  },
  {
   "cell_type": "code",
   "execution_count": 41,
   "metadata": {},
   "outputs": [
    {
     "name": "stdout",
     "output_type": "stream",
     "text": [
      "{'documents': [{'detectedLanguages': [{'iso6391Name': 'en',\n",
      "                                       'name': 'English',\n",
      "                                       'score': 1.0}],\n",
      "                'id': '0'},\n",
      "               {'detectedLanguages': [{'iso6391Name': 'fr',\n",
      "                                       'name': 'French',\n",
      "                                       'score': 1.0}],\n",
      "                'id': '1'},\n",
      "               {'detectedLanguages': [{'iso6391Name': 'es',\n",
      "                                       'name': 'Spanish',\n",
      "                                       'score': 1.0}],\n",
      "                'id': '2'},\n",
      "               {'detectedLanguages': [{'iso6391Name': 'en',\n",
      "                                       'name': 'English',\n",
      "                                       'score': 1.0}],\n",
      "                'id': '3'}],\n",
      " 'errors': []}\n"
     ]
    }
   ],
   "source": [
    "languages = service.DetectLanguage(documents)\n",
    "pprint(languages)"
   ]
  },
  {
   "cell_type": "code",
   "execution_count": 42,
   "metadata": {},
   "outputs": [
    {
     "data": {
      "text/html": [
       "<table><tr><th>Text</th><th>Detected languages(scores)</th></tr><tr><td>Hello world</td><td>English(1.0)</td>\n",
       "<tr><td>Bonjour tout le monde</td><td>French(1.0)</td>\n",
       "<tr><td>La carretera estaba atascada. Había mucho tráfico el día de ayer.</td><td>Spanish(1.0)</td>\n",
       "<tr><td>:) :( :D</td><td>English(1.0)</td></table>"
      ],
      "text/plain": [
       "<IPython.core.display.HTML object>"
      ]
     },
     "execution_count": 42,
     "metadata": {},
     "output_type": "execute_result"
    }
   ],
   "source": [
    "from IPython.display import HTML\n",
    "table = []\n",
    "for document in languages[\"documents\"]:\n",
    "    text  = next(filter(lambda d: d[\"id\"] == document[\"id\"], documents[\"documents\"]))[\"text\"]\n",
    "    langs = \", \".join([\"{0}({1})\".format(lang[\"name\"], lang[\"score\"]) for lang in document[\"detectedLanguages\"]])\n",
    "    table.append(\"<tr><td>{0}</td><td>{1}</td>\".format(text, langs))\n",
    "HTML(\"<table><tr><th>Text</th><th>Detected languages(scores)</th></tr>{0}</table>\".format(\"\\n\".join(table)))"
   ]
  },
  {
   "cell_type": "markdown",
   "metadata": {},
   "source": [
    "## Analyze Sentiment"
   ]
  },
  {
   "cell_type": "code",
   "execution_count": 44,
   "metadata": {},
   "outputs": [],
   "source": [
    "documents = {'documents' : [\n",
    "  {'id': '1', 'language': 'en', 'text': 'I had a wonderful experience! The rooms were wonderful and the staff was helpful.'},\n",
    "  {'id': '2', 'language': 'en', 'text': 'I had a terrible time at the hotel. The staff was rude and the food was awful.'},  \n",
    "  {'id': '3', 'language': 'es', 'text': 'Los caminos que llevan hasta Monte Rainier son espectaculares y hermosos.'},  \n",
    "  {'id': '4', 'language': 'es', 'text': 'La carretera estaba atascada. Había mucho tráfico el día de ayer.'}\n",
    "]}"
   ]
  },
  {
   "cell_type": "code",
   "execution_count": 45,
   "metadata": {},
   "outputs": [
    {
     "name": "stdout",
     "output_type": "stream",
     "text": [
      "{'documents': [{'id': '1', 'score': 0.9708490371704102},\n",
      "               {'id': '2', 'score': 0.0019068121910095215},\n",
      "               {'id': '3', 'score': 0.7456425428390503},\n",
      "               {'id': '4', 'score': 0.334433376789093}],\n",
      " 'errors': []}\n"
     ]
    }
   ],
   "source": [
    "sentiment = service.AnalyzeSentiment(documents)\n",
    "pprint(sentiment)"
   ]
  },
  {
   "cell_type": "code",
   "execution_count": 51,
   "metadata": {},
   "outputs": [
    {
     "data": {
      "text/html": [
       "<table><tr><th>Text</th><th>Detected languages(scores)</th></tr><tr><td>I had a wonderful experience! The rooms were wonderful and the staff was helpful.</td><td>0.9708490371704102</td>\n",
       "<tr><td>I had a terrible time at the hotel. The staff was rude and the food was awful.</td><td>0.0019068121910095215</td>\n",
       "<tr><td>Los caminos que llevan hasta Monte Rainier son espectaculares y hermosos.</td><td>0.7456425428390503</td>\n",
       "<tr><td>La carretera estaba atascada. Había mucho tráfico el día de ayer.</td><td>0.334433376789093</td></table>"
      ],
      "text/plain": [
       "<IPython.core.display.HTML object>"
      ]
     },
     "execution_count": 51,
     "metadata": {},
     "output_type": "execute_result"
    }
   ],
   "source": [
    "from IPython.display import HTML\n",
    "table = []\n",
    "for document in sentiment[\"documents\"]:\n",
    "    text  = next(filter(lambda d: d[\"id\"] == document[\"id\"], documents[\"documents\"]))[\"text\"]\n",
    "    scores = \"{0}\".format(document[\"score\"])\n",
    "    table.append(\"<tr><td>{0}</td><td>{1}</td>\".format(text, scores))\n",
    "HTML(\"<table><tr><th>Text</th><th>Detected languages(scores)</th></tr>{0}</table>\".format(\"\\n\".join(table)))"
   ]
  },
  {
   "cell_type": "markdown",
   "metadata": {},
   "source": [
    "## Key Phrases"
   ]
  },
  {
   "cell_type": "code",
   "execution_count": 53,
   "metadata": {},
   "outputs": [
    {
     "name": "stdout",
     "output_type": "stream",
     "text": [
      "{'documents': [{'id': '1',\n",
      "                'keyPhrases': ['wonderful experience', 'staff', 'rooms']},\n",
      "               {'id': '2',\n",
      "                'keyPhrases': ['food', 'terrible time', 'hotel', 'staff']},\n",
      "               {'id': '3', 'keyPhrases': ['Monte Rainier', 'caminos']},\n",
      "               {'id': '4', 'keyPhrases': ['carretera', 'tráfico', 'día']}],\n",
      " 'errors': []}\n"
     ]
    }
   ],
   "source": [
    "key_phrases = service.ExtractKeyPhrases(documents)\n",
    "pprint(key_phrases)"
   ]
  },
  {
   "cell_type": "code",
   "execution_count": 54,
   "metadata": {},
   "outputs": [
    {
     "data": {
      "text/html": [
       "<table><tr><th>Text</th><th>Key phrases</th></tr><tr><td>I had a wonderful experience! The rooms were wonderful and the staff was helpful.</td><td>wonderful experience,staff,rooms</td>\n",
       "<tr><td>I had a terrible time at the hotel. The staff was rude and the food was awful.</td><td>food,terrible time,hotel,staff</td>\n",
       "<tr><td>Los caminos que llevan hasta Monte Rainier son espectaculares y hermosos.</td><td>Monte Rainier,caminos</td>\n",
       "<tr><td>La carretera estaba atascada. Había mucho tráfico el día de ayer.</td><td>carretera,tráfico,día</td></table>"
      ],
      "text/plain": [
       "<IPython.core.display.HTML object>"
      ]
     },
     "execution_count": 54,
     "metadata": {},
     "output_type": "execute_result"
    }
   ],
   "source": [
    "from IPython.display import HTML\n",
    "table = []\n",
    "for document in key_phrases[\"documents\"]:\n",
    "    text    = next(filter(lambda d: d[\"id\"] == document[\"id\"], documents[\"documents\"]))[\"text\"]    \n",
    "    phrases = \",\".join(document[\"keyPhrases\"])\n",
    "    table.append(\"<tr><td>{0}</td><td>{1}</td>\".format(text, phrases))\n",
    "HTML(\"<table><tr><th>Text</th><th>Key phrases</th></tr>{0}</table>\".format(\"\\n\".join(table)))"
   ]
  },
  {
   "cell_type": "markdown",
   "metadata": {},
   "source": [
    "## Identity Entities"
   ]
  },
  {
   "cell_type": "code",
   "execution_count": 55,
   "metadata": {},
   "outputs": [],
   "source": [
    "documents = {'documents' : [\n",
    "  {'id': '1', 'text': 'Jeff bought three dozen eggs because there was a 50% discount.'},\n",
    "  {'id': '2', 'text': 'The Great Depression began in 1929. By 1933, the GDP in America fell by 25%.'}\n",
    "]}"
   ]
  },
  {
   "cell_type": "code",
   "execution_count": 56,
   "metadata": {},
   "outputs": [
    {
     "name": "stdout",
     "output_type": "stream",
     "text": [
      "{'documents': [{'entities': [{'bingId': '4764c74d-ece6-1778-5d5b-1adb255130c2',\n",
      "                              'matches': [{'length': 4,\n",
      "                                           'offset': 0,\n",
      "                                           'text': 'Jeff'}],\n",
      "                              'name': 'Jeffster!',\n",
      "                              'type': 'Person',\n",
      "                              'wikipediaId': 'Jeffster!',\n",
      "                              'wikipediaLanguage': 'en',\n",
      "                              'wikipediaUrl': 'https://en.wikipedia.org/wiki/Jeffster!'},\n",
      "                             {'matches': [{'length': 11,\n",
      "                                           'offset': 12,\n",
      "                                           'text': 'three dozen'}],\n",
      "                              'name': 'three dozen',\n",
      "                              'subType': 'Number',\n",
      "                              'type': 'Quantity'},\n",
      "                             {'bingId': 'f0ae496f-3c3b-21c7-0946-0d05ffe6e06e',\n",
      "                              'matches': [{'length': 4,\n",
      "                                           'offset': 24,\n",
      "                                           'text': 'eggs'}],\n",
      "                              'name': 'Egg',\n",
      "                              'wikipediaId': 'Egg',\n",
      "                              'wikipediaLanguage': 'en',\n",
      "                              'wikipediaUrl': 'https://en.wikipedia.org/wiki/Egg'},\n",
      "                             {'matches': [{'length': 2,\n",
      "                                           'offset': 49,\n",
      "                                           'text': '50'}],\n",
      "                              'name': '50',\n",
      "                              'subType': 'Number',\n",
      "                              'type': 'Quantity'},\n",
      "                             {'matches': [{'length': 3,\n",
      "                                           'offset': 49,\n",
      "                                           'text': '50%'}],\n",
      "                              'name': '50%',\n",
      "                              'subType': 'Percentage',\n",
      "                              'type': 'Quantity'}],\n",
      "                'id': '1'},\n",
      "               {'entities': [{'bingId': 'd9364681-98ad-1a66-f869-a3f1c8ae8ef8',\n",
      "                              'matches': [{'length': 20,\n",
      "                                           'offset': 0,\n",
      "                                           'text': 'The Great Depression'}],\n",
      "                              'name': 'Great Depression',\n",
      "                              'wikipediaId': 'Great Depression',\n",
      "                              'wikipediaLanguage': 'en',\n",
      "                              'wikipediaUrl': 'https://en.wikipedia.org/wiki/Great_Depression'},\n",
      "                             {'matches': [{'length': 4,\n",
      "                                           'offset': 30,\n",
      "                                           'text': '1929'}],\n",
      "                              'name': '1929',\n",
      "                              'subType': 'DateRange',\n",
      "                              'type': 'DateTime'},\n",
      "                             {'matches': [{'length': 7,\n",
      "                                           'offset': 36,\n",
      "                                           'text': 'By 1933'}],\n",
      "                              'name': 'By 1933',\n",
      "                              'subType': 'DateRange',\n",
      "                              'type': 'DateTime'},\n",
      "                             {'bingId': 'c859ed84-c0dd-e18f-394a-530cae5468a2',\n",
      "                              'matches': [{'length': 3,\n",
      "                                           'offset': 49,\n",
      "                                           'text': 'GDP'}],\n",
      "                              'name': 'Gross domestic product',\n",
      "                              'wikipediaId': 'Gross domestic product',\n",
      "                              'wikipediaLanguage': 'en',\n",
      "                              'wikipediaUrl': 'https://en.wikipedia.org/wiki/Gross_domestic_product'},\n",
      "                             {'bingId': '5232ed96-85b1-2edb-12c6-63e6c597a1de',\n",
      "                              'matches': [{'length': 7,\n",
      "                                           'offset': 56,\n",
      "                                           'text': 'America'}],\n",
      "                              'name': 'United States',\n",
      "                              'type': 'Location',\n",
      "                              'wikipediaId': 'United States',\n",
      "                              'wikipediaLanguage': 'en',\n",
      "                              'wikipediaUrl': 'https://en.wikipedia.org/wiki/United_States'},\n",
      "                             {'matches': [{'length': 2,\n",
      "                                           'offset': 72,\n",
      "                                           'text': '25'}],\n",
      "                              'name': '25',\n",
      "                              'subType': 'Number',\n",
      "                              'type': 'Quantity'},\n",
      "                             {'matches': [{'length': 3,\n",
      "                                           'offset': 72,\n",
      "                                           'text': '25%'}],\n",
      "                              'name': '25%',\n",
      "                              'subType': 'Percentage',\n",
      "                              'type': 'Quantity'}],\n",
      "                'id': '2'}],\n",
      " 'errors': []}\n"
     ]
    }
   ],
   "source": [
    "entities = service.IdentityEntities(documents)\n",
    "pprint(entities)"
   ]
  },
  {
   "cell_type": "code",
   "execution_count": null,
   "metadata": {},
   "outputs": [],
   "source": []
  }
 ],
 "metadata": {
  "kernelspec": {
   "display_name": "Python 3",
   "language": "python",
   "name": "python3"
  },
  "language_info": {
   "codemirror_mode": {
    "name": "ipython",
    "version": 3
   },
   "file_extension": ".py",
   "mimetype": "text/x-python",
   "name": "python",
   "nbconvert_exporter": "python",
   "pygments_lexer": "ipython3",
   "version": "3.7.2"
  }
 },
 "nbformat": 4,
 "nbformat_minor": 2
}
