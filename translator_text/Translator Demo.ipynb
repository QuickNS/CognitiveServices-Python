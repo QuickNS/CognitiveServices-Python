{
 "cells": [
  {
   "cell_type": "markdown",
   "metadata": {},
   "source": [
    "### Create a Translator Text Service\n",
    "To see this in action, you need to provision a Text Analytics service in your Azure subscription. Follow these steps to do that:\n",
    "\n",
    "1. Open another browser tab and navigate to https://portal.azure.com.\n",
    "2. Sign in using your Microsoft account.\n",
    "3. Click **+ New**, and in the **AI + Cognitive Services** category, click **See all**.\n",
    "4. In the list of cognitive services, click **Translator Text API**.\n",
    "5. In the **Translator Text API** blade, click **Create**.\n",
    "6. In the **Create** blade, enter the following details, and then click **Create**\n",
    "  * **Name**: A unique name for your service.\n",
    "  * **Subscription**: Your Azure subscription.\n",
    "  * **Pricing tier**: Choose the F0 pricing tier.\n",
    "  * **Resource Group**: Choose an existing resource group or create a new one.\n",
    "  * Read the notice about the use of your data, and select the checkbox.\n",
    "7. Wait for the service to be created.\n",
    "8. When deployment is complete, click **All Resources** and then click your Translator Text service to open its blade.\n",
    "9. In the blade for your service, click **Keys** and then copy **Key 1** to the clipboard and paste it into the **translatorKey** variable assignment value in the cell below. \n",
    "11. Run the cell below to assign the variable."
   ]
  },
  {
   "cell_type": "code",
   "execution_count": null,
   "metadata": {},
   "outputs": [],
   "source": [
    "translatorKey = '51ef61e196ab420db9cf50004bcdde04'"
   ]
  },
  {
   "cell_type": "markdown",
   "metadata": {},
   "source": [
    "Now we can initialize a TranslatorService object that will handle all API calls to the service"
   ]
  },
  {
   "cell_type": "code",
   "execution_count": null,
   "metadata": {},
   "outputs": [],
   "source": [
    "from translator import TranslatorService\n",
    "translator = TranslatorService(translatorKey)"
   ]
  },
  {
   "cell_type": "markdown",
   "metadata": {},
   "source": [
    "## translate\n",
    "\n",
    "Below you can see examples of translating from 3 languages into english\n",
    "\n",
    "Notice the simple usage: **translator.translate(someText, language)** "
   ]
  },
  {
   "cell_type": "code",
   "execution_count": null,
   "metadata": {},
   "outputs": [],
   "source": [
    "# use the translate function\n",
    "textToTranslate = 'Esta frase deverá ser correctamente traduzida para inglês'\n",
    "print('\\nTranslating from portuguese: \\\"%s\\\"' % textToTranslate)\n",
    "result = translator.translate(textToTranslate, 'en')\n",
    "print ('Result: %s' % result)\n",
    "\n",
    "textToTranslate = 'Este servicio de traducción es genial!'\n",
    "print('\\nTranslating from spanish: \\\"%s\\\"' % textToTranslate)\n",
    "result = translator.translate(textToTranslate, 'en')\n",
    "print ('Result: %s' % result)\n",
    "\n",
    "textToTranslate = 'Het kan zelfs vertalen Nederlandse'\n",
    "print('\\nTranslating from dutch: \\\"%s\\\"' % textToTranslate)\n",
    "result = translator.translate(textToTranslate, 'en')\n",
    "print ('Result: %s' % result)"
   ]
  },
  {
   "cell_type": "markdown",
   "metadata": {},
   "source": [
    "The second parameter of the function we created is the intended language to translate to. The Microsoft Translator API also allows to pass in a parameter specifying the original language but the service is usually able to detect it automatically so this implementation does not include it."
   ]
  },
  {
   "cell_type": "code",
   "execution_count": null,
   "metadata": {},
   "outputs": [],
   "source": [
    "textToTranslate = 'It can translate to other languages too'\n",
    "print('\\nTranslating from english: \\\"%s\\\"' % textToTranslate)\n",
    "result = translator.translate(textToTranslate, 'es')\n",
    "print ('Result: %s' % result)"
   ]
  },
  {
   "cell_type": "markdown",
   "metadata": {},
   "source": [
    "There are actually two models we can use for translation.\n",
    "\n",
    "The legacy model is called **Statistical Machine Translation (SMT)** and can be further customized using the Translator Hub (https://hub.microsofttranslator.com/SignIn?returnURL=%2FHome%2FIndex).\n",
    "\n",
    "The new model is called **Neural Machine Translation (NMT)** and used Deep Neural Networks for the translation. We have to specify it explicitly on the API calls, but the wrapper does that automatically. In this case, if you want to use SMT you need to specify **use_nn=False** on the translate method call.\n",
    "\n",
    "Here's an example:"
   ]
  },
  {
   "cell_type": "code",
   "execution_count": null,
   "metadata": {
    "scrolled": true
   },
   "outputs": [],
   "source": [
    "#Using NMT vs SMT (nerual machine translation vs Statistical machine translation)\n",
    "textToTranslate = 'Esta é uma frase particularmente complexa escrita em português e deverá produzir resultados diferentes conforme a tecnologia seleccionada para a tradução'\n",
    "print('Translating from portuguese: \\\"%s\\\"\\n' % textToTranslate)\n",
    "\n",
    "result = translator.translate(textToTranslate, 'en')\n",
    "print ('Result with NMT: \\n%s' % result)\n",
    "\n",
    "result2 = translator.translate(textToTranslate, 'en', use_nn=False)\n",
    "print ('Result with SMT: \\n%s\\n' % result2)"
   ]
  },
  {
   "cell_type": "markdown",
   "metadata": {},
   "source": [
    "In the results above we can see NMT was slightly better: **'should produce'** is more accurate than '**must produce** in this context as the original phrase in portuguese implies that it is likely we'll get different results as opposed to an absolute certainty."
   ]
  },
  {
   "cell_type": "markdown",
   "metadata": {},
   "source": [
    "## translateArray\n",
    "\n",
    "The TranslatorService class also implements the translateArray which allows to send a list of strings to translate in a single call. Usage is similar to the translate method, except it now requires a list of strings as the first parameter:\n",
    "\n",
    "**translator.translateArray(listOfStrings, language)**"
   ]
  },
  {
   "cell_type": "code",
   "execution_count": null,
   "metadata": {},
   "outputs": [],
   "source": [
    "li = []\n",
    "li.append('Vamos tentar traduzir várias frases de uma vez só')\n",
    "li.append('A ordem é mantida na resposta mas a linguagem de todas as frases tem de ser a mesma')\n",
    "li.append('Esta tradução está a fazer uso de redes neuronais para melhorar os resultados')\n",
    "\n",
    "print('Using NMT')\n",
    "result = translator.translateArray(li,'en')\n",
    "for s in result:\n",
    "    print(s)\n",
    "\n",
    "print('\\nUsing SMT')\n",
    "result = translator.translateArray(li,'en', use_nn=False)\n",
    "for s in result:\n",
    "    print(s)"
   ]
  },
  {
   "cell_type": "markdown",
   "metadata": {},
   "source": [
    "## detect\n",
    "\n",
    "The service is also able to detect in which language a particular piece of text is written. The wrapper implements the **detect** function which can be used for this:\n",
    "\n",
    "usage: **translator.detect(someText)**"
   ]
  },
  {
   "cell_type": "code",
   "execution_count": null,
   "metadata": {},
   "outputs": [],
   "source": [
    "textToDetect = \"Será que a detecção funciona?\"\n",
    "result = translator.detect(textToDetect)\n",
    "print('Detected language: {0}'.format(result))"
   ]
  },
  {
   "cell_type": "markdown",
   "metadata": {},
   "source": [
    "## detectArray\n",
    "\n",
    "As for translations, we can also send multiple strings for language detection\n",
    "\n",
    "usage: **translator.detectArray(listOfStrings)**"
   ]
  },
  {
   "cell_type": "code",
   "execution_count": null,
   "metadata": {},
   "outputs": [],
   "source": [
    "li = []\n",
    "li.append(\"Let's try detecting the language of several strings\")\n",
    "li.append(\"Esta está em português\")\n",
    "li.append(\"et celui-ci en français\")\n",
    "\n",
    "translator.detectArray(li)"
   ]
  },
  {
   "cell_type": "markdown",
   "metadata": {},
   "source": [
    "## Speak\n",
    "\n",
    "You can instruct the api to return a wave or mp3 stream of the passed-in text being spoken in the desired language"
   ]
  },
  {
   "cell_type": "code",
   "execution_count": null,
   "metadata": {},
   "outputs": [],
   "source": [
    "text = 'Python is fun!'\n",
    "translator.speak(text,\"en-us\",\"female\")\n",
    "\n",
    "fr_text = translator.translate(text, \"fr-fr\")\n",
    "translator.speak(fr_text,\"fr-fr\",\"female\")"
   ]
  },
  {
   "cell_type": "markdown",
   "metadata": {},
   "source": [
    "## getLanguagesForTranslate | getLanguageForSpeak | getLanguageNames\n",
    "\n",
    "\n",
    "Finally, the wrapper also includes methods to get all the supported language codes (which you can use on the previous methods) and also the friendly name associated to those codes for displaying in a UI. Usage: \n",
    "\n",
    "**translator.getLanguagesForTranslate()**\n",
    "\n",
    "**translator.getLanguagesForSpeak()**\n",
    "\n",
    "**translator.getLanguageNames(listOfLangCodes, locale)**"
   ]
  },
  {
   "cell_type": "code",
   "execution_count": null,
   "metadata": {},
   "outputs": [],
   "source": [
    "langCodes = translator.getLanguagesForTranslate()\n",
    "print(\"Language codes (translation):\")\n",
    "print(langCodes)\n",
    "\n",
    "langCodes = translator.getLanguagesForSpeak()\n",
    "print(\"\\nLanguage codes (speak):\")\n",
    "print(langCodes)\n",
    "\n",
    "languageNames = translator.getLanguageNames(langCodes,'en')\n",
    "print(\"\\nLanguage names:\")\n",
    "print(languageNames)\n"
   ]
  },
  {
   "cell_type": "markdown",
   "metadata": {},
   "source": [
    "### Just for fun\n",
    "\n",
    "A small interactive application when you run this cell, so you can freely test the service"
   ]
  },
  {
   "cell_type": "code",
   "execution_count": null,
   "metadata": {},
   "outputs": [],
   "source": [
    "import random\n",
    "import numpy as np\n",
    "\n",
    "textToTranslate = input(\"Input a string in any supported language:\")\n",
    "\n",
    "langCodes = translator.getLanguagesForSpeak()\n",
    "langFriendlyNames = translator.getLanguageNames(langCodes,'en')\n",
    "\n",
    "#choose 5 random languages\n",
    "random_values = (list(np.arange(len(langCodes))))\n",
    "sample = random.sample(random_values, 5)\n",
    "\n",
    "print (\"\\nLanguage List\\n\")\n",
    "i = 0\n",
    "for l in sample:\n",
    "    i = i + 1\n",
    "    print('%i:%s' % (i, langFriendlyNames[l]))\n",
    "\n",
    "toLangCode = \" \"\n",
    "# Get the destination language\n",
    "while (toLangCode == \" \"):\n",
    "    destLang = int(input(\"\\nChoose the language from the list that you want to translate to: \"))\n",
    "    if (destLang >= 1) or (destLang <= 5):\n",
    "        toLangCode = langCodes[sample[destLang-1]]\n",
    "    else:\n",
    "        print (\"\\nYou need to pick a language from the List\\n\")\n",
    " \n",
    "result = translator.translate(textToTranslate, toLangCode)\n",
    "print('\\nTranslation: %s' % result)\n",
    "translator.speak(textToTranslate, toLangCode)\n"
   ]
  },
  {
   "cell_type": "code",
   "execution_count": null,
   "metadata": {},
   "outputs": [],
   "source": []
  }
 ],
 "metadata": {
  "kernelspec": {
   "display_name": "Python 3",
   "language": "python",
   "name": "python3"
  },
  "language_info": {
   "codemirror_mode": {
    "name": "ipython",
    "version": 3
   },
   "file_extension": ".py",
   "mimetype": "text/x-python",
   "name": "python",
   "nbconvert_exporter": "python",
   "pygments_lexer": "ipython3",
   "version": "3.6.4"
  }
 },
 "nbformat": 4,
 "nbformat_minor": 2
}
